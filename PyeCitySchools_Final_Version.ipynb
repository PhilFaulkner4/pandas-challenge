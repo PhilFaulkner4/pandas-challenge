{
 "cells": [
  {
   "cell_type": "markdown",
   "metadata": {},
   "source": [
    "### Note\n",
    "* Instructions have been included for each segment. You do not have to follow them exactly, but they are included to help you think through the steps."
   ]
  },
  {
   "cell_type": "code",
   "execution_count": null,
   "metadata": {
    "scrolled": true
   },
   "outputs": [
    {
     "ename": "",
     "evalue": "",
     "output_type": "error",
     "traceback": [
      "\u001b[1;31mRunning cells with 'Python 3.11.0a6 64-bit' requires ipykernel package.\n",
      "\u001b[1;31mRun the following command to install 'ipykernel' into the Python environment. \n",
      "\u001b[1;31mCommand: 'c:/Users/Owner/AppData/Local/Programs/Python/Python311/python.exe -m pip install ipykernel -U --user --force-reinstall'"
     ]
    }
   ],
   "source": [
    "# Dependencies and Setup\n",
    "import pandas as pd\n",
    "import numpy as np\n",
    "\n",
    "# File to Load (Remember to Change These)\n",
    "school_data_to_load = \"Resources/schools_complete.csv\"\n",
    "student_data_to_load = \"Resources/students_complete.csv\"\n",
    "\n",
    "# Read School and Student Data File and store into Pandas Data Frames\n",
    "school_data = pd.read_csv(school_data_to_load)\n",
    "student_data = pd.read_csv(student_data_to_load)\n",
    "\n",
    "# Combine the data into a single dataset\n",
    "school_data_complete = pd.merge(student_data, school_data, how=\"left\", on=[\"school_name\", \"school_name\"])"
   ]
  },
  {
   "cell_type": "markdown",
   "metadata": {},
   "source": [
    "## School Summary"
   ]
  },
  {
   "cell_type": "markdown",
   "metadata": {},
   "source": [
    "## District Summary\n",
    "\n",
    "* Calculate the total number of schools\n",
    "\n",
    "* Calculate the total number of students\n",
    "\n",
    "* Calculate the total budget\n",
    "\n",
    "* Calculate the average math score \n",
    "\n",
    "* Calculate the average reading score\n",
    "\n",
    "* Calculate the percentage of students with a passing math score (70 or greater)\n",
    "\n",
    "* Calculate the percentage of students with a passing reading score (70 or greater)\n",
    "\n",
    "* Calculate the percentage of students who passed math **and** reading (% Overall Passing)\n",
    "\n",
    "* Create a dataframe to hold the above results\n",
    "\n",
    "* Optional: give the displayed data cleaner formatting"
   ]
  },
  {
   "cell_type": "code",
   "execution_count": null,
   "metadata": {},
   "outputs": [
    {
     "ename": "",
     "evalue": "",
     "output_type": "error",
     "traceback": [
      "\u001b[1;31mRunning cells with 'Python 3.11.0a6 64-bit' requires ipykernel package.\n",
      "\u001b[1;31mRun the following command to install 'ipykernel' into the Python environment. \n",
      "\u001b[1;31mCommand: 'c:/Users/Owner/AppData/Local/Programs/Python/Python311/python.exe -m pip install ipykernel -U --user --force-reinstall'"
     ]
    }
   ],
   "source": [
    "\n",
    "Total_Students = len(school_data_complete)\n",
    "\n",
    "Budget_List = school_data_complete.groupby(\"school_name\").mean()\n",
    "Total_Budget = Budget_List[\"budget\"].sum()\n",
    "Total_Budget = '${:,.2f}'.format(Total_Budget)\n",
    "\n",
    "Avg_Math = school_data_complete[\"math_score\"].mean()\n",
    "\n",
    "Avg_Read = school_data_complete[\"reading_score\"].mean()\n",
    "\n",
    "Overall_Passing = (Avg_Math + Avg_Read)/2\n",
    "\n",
    "Passing_Math = school_data_complete.loc[school_data_complete[\"math_score\"] >=70,:]\n",
    "MathPct = Passing_Math[\"math_score\"].count() / Total_Students * 100\n",
    "MathPct\n",
    "\n",
    "Passing_Read = school_data_complete.loc[school_data_complete[\"reading_score\"] >=70,:]\n",
    "ReadPct = Passing_Read[\"reading_score\"].count() / Total_Students * 100\n",
    "ReadPct\n",
    "\n",
    "Total_Students = '{:,.0f}'.format(Total_Students)\n",
    "\n",
    "Summary0DF = pd.DataFrame({\"Total Schools\" : [Total_Schools,1], \"Total Students\" : [Total_Students,1],\n",
    "                         \"Total Budget\": [Total_Budget, 1],\n",
    "                           \"Average Math Score\" : [Avg_Math,1], \"Average Reading Score\" : [Avg_Read,1],\n",
    "                          \"% Passing Math\" : [MathPct,1], \"% Passing Reading\" : [ReadPct,1], \n",
    "                          \"% Overall Passing Rate\" : [Overall_Passing,1]})\n",
    "\n",
    "SummaryDF = Summary0DF.drop([1])\n",
    "\n",
    "SummaryDF"
   ]
  },
  {
   "cell_type": "markdown",
   "metadata": {},
   "source": [
    "* Create an overview table that summarizes key metrics about each school, including:\n",
    "  * School Name\n",
    "  * School Type\n",
    "  * Total Students\n",
    "  * Total School Budget\n",
    "  * Per Student Budget\n",
    "  * Average Math Score\n",
    "  * Average Reading Score\n",
    "  * % Passing Math\n",
    "  * % Passing Reading\n",
    "  * % Overall Passing (The percentage of students that passed math **and** reading.)\n",
    "  \n",
    "* Create a dataframe to hold the above results"
   ]
  },
  {
   "cell_type": "markdown",
   "metadata": {},
   "source": [
    "## Top Performing Schools (By % Overall Passing)"
   ]
  },
  {
   "cell_type": "markdown",
   "metadata": {},
   "source": [
    "* Sort and display the top five performing schools by % overall passing."
   ]
  },
  {
   "cell_type": "code",
   "execution_count": null,
   "metadata": {
    "scrolled": true
   },
   "outputs": [
    {
     "ename": "",
     "evalue": "",
     "output_type": "error",
     "traceback": [
      "\u001b[1;31mRunning cells with 'Python 3.11.0a6 64-bit' requires ipykernel package.\n",
      "\u001b[1;31mRun the following command to install 'ipykernel' into the Python environment. \n",
      "\u001b[1;31mCommand: 'c:/Users/Owner/AppData/Local/Programs/Python/Python311/python.exe -m pip install ipykernel -U --user --force-reinstall'"
     ]
    }
   ],
   "source": [
    "Budget_List\n",
    "Per_Student_Budget = Budget_List[\"budget\"]/Budget_List[\"size\"]\n",
    "Budget_List[\"Per Student Budget\"] = Per_Student_Budget\n",
    "Budget_List\n",
    "\n",
    "Passing_Math_List = school_data_complete.loc[school_data_complete[\"math_score\"]>=70,:]\n",
    "Passing_Math_Count = Passing_Math_List.groupby(\"school_name\").count()\n",
    "Passing_Math_Pct = Passing_Math_Count[\"math_score\"] / Budget_List[\"size\"]*100\n",
    "Passing_Math_Pct\n",
    "\n",
    "Passing_Read_List = school_data_complete.loc[school_data_complete[\"reading_score\"]>=70,:]\n",
    "Passing_Read_Count = Passing_Read_List.groupby(\"school_name\").count()\n",
    "Passing_Read_Pct = Passing_Read_Count[\"reading_score\"] / Budget_List[\"size\"]*100\n",
    "Passing_Read_Pct\n",
    "\n",
    "Budget_List[\"% Passing Math\"] = Passing_Math_Pct\n",
    "Budget_List[\"% Passing Reading\"] = Passing_Read_Pct\n",
    "Budget_List[\"% Passing Overall\"] = (Budget_List[\"% Passing Math\"] + Budget_List[\"% Passing Reading\"])/2\n",
    "\n",
    "Sorted1 = Budget_List.sort_values([\"% Passing Overall\"], ascending=False)\n",
    "School_Type = school_data_complete.loc[:,[\"school_name\" , \"type\"]]\n",
    "Sorted_Overall = pd.merge(Sorted1, School_Type, on=\"school_name\", how=\"inner\")\n",
    "Sorted_Overall.drop_duplicates(inplace=True)\n",
    "Sorted_Overall\n",
    "\n",
    "del Sorted_Overall[\"Student ID\"]\n",
    "del Sorted_Overall[\"School ID\"]\n",
    "\n",
    "Sorted_Reorg = Sorted_Overall[[\"school_name\",\"type\", \"size\", \"budget\", \"Per Student Budget\", \"math_score\", \"reading_score\",\n",
    "               \"% Passing Math\", \"% Passing Reading\", \"% Passing Overall\"]]\n",
    "Sorted_Reorg = Sorted_Reorg.reset_index(drop=True)\n",
    "\n",
    "Top5Pass = Sorted_Reorg.iloc[0:5,:]\n",
    "Top5Pass = Top5Pass.set_index(\"school_name\")\n",
    "\n",
    "Top5Pass = Top5Pass.rename(columns={\"type\":\"School Type\", \"size\":\"Total Students\",\n",
    "                                     \"budget\":\"Total School Budget\", \n",
    "                                    \"math_score\": \"Average Math Score\", \n",
    "                                    \"reading_score\":\"Average Reading Score\",\n",
    "                                     \"% Passing Overall\": \"% Overall Passing Rate\"} )\n",
    "\n",
    "\n",
    "Top5Pass = Top5Pass.rename_axis(\"\")\n",
    "\n",
    "Top5Pass"
   ]
  },
  {
   "cell_type": "markdown",
   "metadata": {},
   "source": [
    "## Bottom Performing Schools (By % Overall Passing)"
   ]
  },
  {
   "cell_type": "markdown",
   "metadata": {},
   "source": [
    "* Sort and display the five worst-performing schools by % overall passing."
   ]
  },
  {
   "cell_type": "code",
   "execution_count": null,
   "metadata": {},
   "outputs": [
    {
     "ename": "",
     "evalue": "",
     "output_type": "error",
     "traceback": [
      "\u001b[1;31mRunning cells with 'Python 3.11.0a6 64-bit' requires ipykernel package.\n",
      "\u001b[1;31mRun the following command to install 'ipykernel' into the Python environment. \n",
      "\u001b[1;31mCommand: 'c:/Users/Owner/AppData/Local/Programs/Python/Python311/python.exe -m pip install ipykernel -U --user --force-reinstall'"
     ]
    }
   ],
   "source": [
    "Bottom5Passing = Sorted_Reorg.sort_values([\"% Passing Overall\"], ascending=True)\n",
    "Bottom5Passing = Bottom5Passing.iloc[0:5,:]\n",
    "\n",
    "Bottom5Passing = Bottom5Passing.set_index(\"school_name\")\n",
    "\n",
    "Bottom5Passing = Bottom5Passing.rename(columns={\"type\":\"School Type\", \"size\":\"Total Students\",\n",
    "                                     \"budget\":\"Total School Budget\", \n",
    "                                    \"math_score\": \"Average Math Score\", \n",
    "                                    \"reading_score\":\"Average Reading Score\",\n",
    "                                     \"% Passing Overall\": \"% Overall Passing Rate\"} )\n",
    "Bottom5Passing = Bottom5Passing.rename_axis(\"\")\n",
    "Bottom5Passing"
   ]
  },
  {
   "cell_type": "markdown",
   "metadata": {
    "collapsed": true
   },
   "source": [
    "## Math Scores by Grade"
   ]
  },
  {
   "cell_type": "markdown",
   "metadata": {},
   "source": [
    "* Create a table that lists the average Reading Score for students of each grade level (9th, 10th, 11th, 12th) at each school.\n",
    "\n",
    "  * Create a pandas series for each grade. Hint: use a conditional statement.\n",
    "  \n",
    "  * Group each series by school\n",
    "  \n",
    "  * Combine the series into a dataframe\n",
    "  \n",
    "  * Optional: give the displayed data cleaner formatting"
   ]
  },
  {
   "cell_type": "code",
   "execution_count": null,
   "metadata": {},
   "outputs": [
    {
     "ename": "",
     "evalue": "",
     "output_type": "error",
     "traceback": [
      "\u001b[1;31mRunning cells with 'Python 3.11.0a6 64-bit' requires ipykernel package.\n",
      "\u001b[1;31mRun the following command to install 'ipykernel' into the Python environment. \n",
      "\u001b[1;31mCommand: 'c:/Users/Owner/AppData/Local/Programs/Python/Python311/python.exe -m pip install ipykernel -U --user --force-reinstall'"
     ]
    }
   ],
   "source": [
    "School9 = school_data_complete.loc[school_data_complete[\"grade\"]==\"9th\",[\"school_name\",\"grade\", \"math_score\"]]\n",
    "Avg9 = School9.groupby(\"school_name\").mean()\n",
    "\n",
    "School10 = school_data_complete.loc[school_data_complete[\"grade\"]==\"10th\",[\"school_name\",\"grade\",\"math_score\"]]\n",
    "Avg10 = School10.groupby(\"school_name\").mean()\n",
    "\n",
    "School11 = school_data_complete.loc[school_data_complete[\"grade\"]==\"11th\",[\"school_name\",\"grade\",\"math_score\"]]\n",
    "Avg11 = School11.groupby(\"school_name\").mean()\n",
    "\n",
    "School12 = school_data_complete.loc[school_data_complete[\"grade\"]==\"12th\",[\"school_name\",\"grade\",\"math_score\"]]\n",
    "Avg12 = School12.groupby(\"school_name\").mean()\n",
    "\n",
    "MathByGrade0 = pd.merge(Avg9, Avg10, on=\"school_name\")\n",
    "MathByGrade0 = MathByGrade0.rename(columns={\"math_score_x\":\"9th\", \"math_score_y\":\"10th\"})\n",
    "MathByGrade1 = pd.merge(MathByGrade0, Avg11, on=\"school_name\")\n",
    "MathByGrade2 = pd.merge(MathByGrade1, Avg12, on=\"school_name\")\n",
    "MathByGrade = MathByGrade2.rename(columns={\"math_score_x\":\"11th\",\"math_score_y\":\"12th\"})\n",
    "\n",
    "MathByGrade = MathByGrade.rename_axis(\"\")\n",
    "\n",
    "MathByGrade"
   ]
  },
  {
   "cell_type": "markdown",
   "metadata": {},
   "source": [
    "## Reading Score by Grade "
   ]
  },
  {
   "cell_type": "markdown",
   "metadata": {},
   "source": [
    "* Perform the same operations as above for reading scores"
   ]
  },
  {
   "cell_type": "code",
   "execution_count": null,
   "metadata": {},
   "outputs": [
    {
     "ename": "",
     "evalue": "",
     "output_type": "error",
     "traceback": [
      "\u001b[1;31mRunning cells with 'Python 3.11.0a6 64-bit' requires ipykernel package.\n",
      "\u001b[1;31mRun the following command to install 'ipykernel' into the Python environment. \n",
      "\u001b[1;31mCommand: 'c:/Users/Owner/AppData/Local/Programs/Python/Python311/python.exe -m pip install ipykernel -U --user --force-reinstall'"
     ]
    }
   ],
   "source": [
    "SchoolRead9 = school_data_complete.loc[school_data_complete[\"grade\"]==\"9th\",[\"school_name\",\"grade\", \"reading_score\"]]\n",
    "AvgRead9 = SchoolRead9.groupby(\"school_name\").mean()\n",
    "\n",
    "SchoolRead10 = school_data_complete.loc[school_data_complete[\"grade\"]==\"10th\",[\"school_name\",\"grade\",\"reading_score\"]]\n",
    "AvgRead10 = SchoolRead10.groupby(\"school_name\").mean()\n",
    "\n",
    "SchoolRead11 = school_data_complete.loc[school_data_complete[\"grade\"]==\"11th\",[\"school_name\",\"grade\",\"reading_score\"]]\n",
    "AvgRead11 = SchoolRead11.groupby(\"school_name\").mean()\n",
    "\n",
    "SchoolRead12 = school_data_complete.loc[school_data_complete[\"grade\"]==\"12th\",[\"school_name\",\"grade\",\"reading_score\"]]\n",
    "AvgRead12 = SchoolRead12.groupby(\"school_name\").mean()\n",
    "\n",
    "ReadByGrade0 = pd.merge(AvgRead9, AvgRead10, on=\"school_name\")\n",
    "ReadByGrade0 = ReadByGrade0.rename(columns={\"reading_score_x\":\"9th\", \"reading_score_y\":\"10th\"})\n",
    "ReadByGrade1 = pd.merge(ReadByGrade0, AvgRead11, on=\"school_name\")\n",
    "ReadByGrade2 = pd.merge(ReadByGrade1, AvgRead12, on=\"school_name\")\n",
    "ReadByGrade = ReadByGrade2.rename(columns={\"reading_score_x\":\"11th\",\"reading_score_y\":\"12th\"})\n",
    "\n",
    "ReadByGrade = ReadByGrade.rename_axis(\"\")\n",
    "\n",
    "ReadByGrade"
   ]
  },
  {
   "cell_type": "markdown",
   "metadata": {},
   "source": [
    "## Scores by School Spending"
   ]
  },
  {
   "cell_type": "markdown",
   "metadata": {},
   "source": [
    "* Create a table that breaks down school performances based on average Spending Ranges (Per Student). Use 4 reasonable bins to group school spending. Include in the table each of the following:\n",
    "  * Average Math Score\n",
    "  * Average Reading Score\n",
    "  * % Passing Math\n",
    "  * % Passing Reading\n",
    "  * Overall Passing Rate (Average of the above two)"
   ]
  },
  {
   "cell_type": "code",
   "execution_count": null,
   "metadata": {},
   "outputs": [
    {
     "ename": "",
     "evalue": "",
     "output_type": "error",
     "traceback": [
      "\u001b[1;31mRunning cells with 'Python 3.11.0a6 64-bit' requires ipykernel package.\n",
      "\u001b[1;31mRun the following command to install 'ipykernel' into the Python environment. \n",
      "\u001b[1;31mCommand: 'c:/Users/Owner/AppData/Local/Programs/Python/Python311/python.exe -m pip install ipykernel -U --user --force-reinstall'"
     ]
    }
   ],
   "source": [
    "# Sample bins. Feel free to create your own bins.\n",
    "#spending_bins = [0, 585, 615, 645, 675]\n",
    "#group_names = [\"<$585\", \"$585-615\", \"$615-645\", \"$645-675\"]\n",
    "\n",
    "\n",
    "\n",
    "spending_bins = [0, 600, 620, 640, 700]\n",
    "group_names = [\"<$600\", \"$600-620\", \"$620-640\", \"$640+\"]\n",
    "\n",
    "Sorted_Reorg[\"SpendClass\"] = pd.cut(Sorted_Reorg[\"Per Student Budget\"], spending_bins, labels = group_names)\n",
    "Sorted_Reorg\n",
    "\n",
    "AvgMathBudget = Sorted_Reorg[\"math_score\"].groupby(Sorted_Reorg[\"SpendClass\"]).mean()\n",
    "AvgReadBudget = Sorted_Reorg[\"reading_score\"].groupby(Sorted_Reorg[\"SpendClass\"]).mean()\n",
    "MathPassBudget = Sorted_Reorg[\"% Passing Math\"].groupby(Sorted_Reorg[\"SpendClass\"]).mean()\n",
    "ReadPassBudget = Sorted_Reorg[\"% Passing Reading\"].groupby(Sorted_Reorg[\"SpendClass\"]).mean()\n",
    "OverallPassBudget = Sorted_Reorg[\"% Passing Overall\"].groupby(Sorted_Reorg[\"SpendClass\"]).mean()\n",
    "\n",
    "Budget_Summary = pd.DataFrame({\"Average Math Score\": AvgMathBudget, \"Average Reading Score\": AvgReadBudget,\n",
    "                               \"% Passing Math\": MathPassBudget, \"% Passing Reading\": ReadPassBudget,\n",
    "                                \"% Overall Passing Rate\": OverallPassBudget})\n",
    "\n",
    "Budget_Summary = Budget_Summary.rename_axis(\"Spending Ranges (Per Student)\")\n",
    "\n",
    "Budget_Summary"
   ]
  },
  {
   "cell_type": "markdown",
   "metadata": {},
   "source": [
    "## Scores by School Size"
   ]
  },
  {
   "cell_type": "markdown",
   "metadata": {},
   "source": [
    "* Perform the same operations as above, based on school size."
   ]
  },
  {
   "cell_type": "code",
   "execution_count": null,
   "metadata": {
    "scrolled": true
   },
   "outputs": [
    {
     "ename": "",
     "evalue": "",
     "output_type": "error",
     "traceback": [
      "\u001b[1;31mRunning cells with 'Python 3.11.0a6 64-bit' requires ipykernel package.\n",
      "\u001b[1;31mRun the following command to install 'ipykernel' into the Python environment. \n",
      "\u001b[1;31mCommand: 'c:/Users/Owner/AppData/Local/Programs/Python/Python311/python.exe -m pip install ipykernel -U --user --force-reinstall'"
     ]
    }
   ],
   "source": [
    "# Sample bins. Feel free to create your own bins.\n",
    "#size_bins = [0, 1000, 2000, 5000]\n",
    "#group_names = [\"Small (<1000)\", \"Medium (1000-2000)\", \"Large (2000-5000)\"]\n",
    "\n",
    "size_bins = [0, 1000, 2000, 3500, 5000]\n",
    "group_names1 = [\"Small (<1000)\", \"Medium (1000-2000)\", \"Large (2000-3500)\", \"Very Large (3500-5000)\"]\n",
    "\n",
    "Sorted_Reorg[\"SizeClass\"] = pd.cut(Sorted_Reorg[\"size\"], size_bins, labels = group_names1)\n",
    "\n",
    "AvgMathSize = Sorted_Reorg[\"math_score\"].groupby(Sorted_Reorg[\"SizeClass\"]).mean()\n",
    "AvgReadSize = Sorted_Reorg[\"reading_score\"].groupby(Sorted_Reorg[\"SizeClass\"]).mean()\n",
    "MathPassSize = Sorted_Reorg[\"% Passing Math\"].groupby(Sorted_Reorg[\"SizeClass\"]).mean()\n",
    "ReadPassSize = Sorted_Reorg[\"% Passing Reading\"].groupby(Sorted_Reorg[\"SizeClass\"]).mean()\n",
    "OverallPassSize = Sorted_Reorg[\"% Passing Overall\"].groupby(Sorted_Reorg[\"SizeClass\"]).mean()\n",
    "\n",
    "Size_Summary = pd.DataFrame({\"Average Math Score\": AvgMathSize, \"Average Reading Score\": AvgReadSize,\n",
    "                               \"% Passing Math\": MathPassSize, \"% Passing Reading\": ReadPassSize,\n",
    "                                \"% Overall Passing Rate\": OverallPassSize})\n",
    "\n",
    "Size_Summary = Size_Summary.rename_axis(\"School Size\")\n",
    "\n",
    "Size_Summary"
   ]
  },
  {
   "cell_type": "markdown",
   "metadata": {},
   "source": [
    "## Scores by School Type"
   ]
  },
  {
   "cell_type": "markdown",
   "metadata": {},
   "source": [
    "* Perform the same operations as above, based on school type"
   ]
  },
  {
   "cell_type": "code",
   "execution_count": null,
   "metadata": {},
   "outputs": [
    {
     "ename": "",
     "evalue": "",
     "output_type": "error",
     "traceback": [
      "\u001b[1;31mRunning cells with 'Python 3.11.0a6 64-bit' requires ipykernel package.\n",
      "\u001b[1;31mRun the following command to install 'ipykernel' into the Python environment. \n",
      "\u001b[1;31mCommand: 'c:/Users/Owner/AppData/Local/Programs/Python/Python311/python.exe -m pip install ipykernel -U --user --force-reinstall'"
     ]
    }
   ],
   "source": [
    "AvgMathType = Sorted_Reorg[\"math_score\"].groupby(Sorted_Reorg[\"type\"]).mean()\n",
    "AvgReadType = Sorted_Reorg[\"reading_score\"].groupby(Sorted_Reorg[\"type\"]).mean()\n",
    "MathPassType = Sorted_Reorg[\"% Passing Math\"].groupby(Sorted_Reorg[\"type\"]).mean()\n",
    "ReadPassType = Sorted_Reorg[\"% Passing Reading\"].groupby(Sorted_Reorg[\"type\"]).mean()\n",
    "OverallPassType = Sorted_Reorg[\"% Passing Overall\"].groupby(Sorted_Reorg[\"type\"]).mean()\n",
    "\n",
    "Type_Summary = pd.DataFrame({\"Average Math Score\": AvgMathType, \"Average Reading Score\": AvgReadType,\n",
    "                               \"% Passing Math\": MathPassType, \"% Passing Reading\": ReadPassType,\n",
    "                                \"% Overall Passing Rate\": OverallPassType})\n",
    "\n",
    "Type_Summary = Type_Summary.rename_axis(\"School Type\")\n",
    "\n",
    "Type_Summary"
   ]
  }
 ],
 "metadata": {
  "anaconda-cloud": {},
  "kernel_info": {
   "name": "python3"
  },
  "kernelspec": {
   "display_name": "Python 3.11.0a6 64-bit",
   "language": "python",
   "name": "python3"
  },
  "language_info": {
   "codemirror_mode": {
    "name": "ipython",
    "version": 3
   },
   "file_extension": ".py",
   "mimetype": "text/x-python",
   "name": "python",
   "nbconvert_exporter": "python",
   "pygments_lexer": "ipython3",
   "version": "3.11.0"
  },
  "latex_envs": {
   "LaTeX_envs_menu_present": true,
   "autoclose": false,
   "autocomplete": true,
   "bibliofile": "biblio.bib",
   "cite_by": "apalike",
   "current_citInitial": 1,
   "eqLabelWithNumbers": true,
   "eqNumInitial": 1,
   "hotkeys": {
    "equation": "Ctrl-E",
    "itemize": "Ctrl-I"
   },
   "labels_anchors": false,
   "latex_user_defs": false,
   "report_style_numbering": false,
   "user_envs_cfg": false
  },
  "nteract": {
   "version": "0.8.4"
  },
  "vscode": {
   "interpreter": {
    "hash": "544c7e72ceabb8b5baf00146d00b7c3a5bfd60d2cf41bb549c5c035fb33480da"
   }
  }
 },
 "nbformat": 4,
 "nbformat_minor": 1
}
